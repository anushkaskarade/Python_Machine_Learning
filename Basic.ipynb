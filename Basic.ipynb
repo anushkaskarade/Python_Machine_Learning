{
 "cells": [
  {
   "cell_type": "markdown",
   "metadata": {},
   "source": [
    "Lists in python"
   ]
  },
  {
   "cell_type": "code",
   "execution_count": 30,
   "metadata": {},
   "outputs": [
    {
     "name": "stdout",
     "output_type": "stream",
     "text": [
      "[1, 2, 3, 4]\n",
      "['Anushka', 'Priyanka', 'Shruti', 'Payal']\n",
      "[1, 2, 3, 4, 5]\n",
      "[]\n",
      "[10, 20, 30, 40]\n",
      "[1, 100, 2, 3, 4, 5, 10, 20, 30, 40]\n",
      "[1, 100, 2, 4, 5, 10, 20, 30, 40]\n",
      "[1, 100, 2, 4, 5, 10, 30, 40]\n",
      "[40, 30, 10, 5, 4, 2, 100, 1]\n",
      "[1, 2, 4, 5, 10, 30, 40, 100]\n"
     ]
    }
   ],
   "source": [
    "list=[1,2,3,4]\n",
    "print(list)\n",
    "list2=[\"Anushka\",\"Priyanka\",\"Shruti\",\"Payal\"]\n",
    "print(list2)\n",
    "list.append(5)\n",
    "print(list)\n",
    "list2.clear()\n",
    "print(list2)\n",
    "list2=[10,20,30,40]\n",
    "print(list2)\n",
    "list.extend(list2)\n",
    "list.insert(1,100)\n",
    "print(list)\n",
    "list.pop(3)\n",
    "print(list)\n",
    "list.remove(20)\n",
    "print(list)\n",
    "list.reverse()\n",
    "print(list)\n",
    "list.sort()\n",
    "print(list)"
   ]
  },
  {
   "cell_type": "markdown",
   "metadata": {},
   "source": [
    "Tuples in Python"
   ]
  },
  {
   "cell_type": "code",
   "execution_count": 36,
   "metadata": {},
   "outputs": [
    {
     "name": "stdout",
     "output_type": "stream",
     "text": [
      "('apple', 'banana', 'grapes')\n",
      "('apple', 'banana')\n",
      "3\n",
      "1\n"
     ]
    }
   ],
   "source": [
    "tuple=(\"apple\",\"banana\",\"grapes\")\n",
    "print(tuple)\n",
    "x = slice(2)\n",
    "print(tuple[x])\n",
    "print(len(tuple))\n",
    "y=tuple.count(\"apple\")\n",
    "print(y)"
   ]
  },
  {
   "cell_type": "markdown",
   "metadata": {},
   "source": [
    "Dictionaries in Python"
   ]
  },
  {
   "cell_type": "code",
   "execution_count": 56,
   "metadata": {},
   "outputs": [
    {
     "name": "stdout",
     "output_type": "stream",
     "text": [
      "{'name': 'XYZ', 'PRN': '22UAI300', 'CGPA': 9.0}\n",
      "XYZ\n",
      "{'name': 'XYZ', 'PRN': '22UAI300', 'CGPA': 9.0}\n",
      "{'key1': 0, 'key2': 0, 'key3': 0}\n",
      "22UAI300\n",
      "dict_items([('name', 'XYZ'), ('PRN', '22UAI300'), ('CGPA', 9.0)])\n",
      "dict_keys(['name', 'PRN', 'CGPA'])\n",
      "{'name': 'XYZ', 'PRN': '22UAI300'}\n",
      "{'name': 'XYZ', 'PRN': '22UAI300', 'CGPA': '9.00'}\n",
      "{'name': 'XYZ', 'PRN': '22UAI300', 'CGPA': '9.00', 'City': 'Ichalkaranji'}\n"
     ]
    },
    {
     "data": {
      "text/plain": [
       "dict_values(['XYZ', '22UAI300', '9.00', 'Ichalkaranji'])"
      ]
     },
     "execution_count": 56,
     "metadata": {},
     "output_type": "execute_result"
    }
   ],
   "source": [
    "student={\n",
    "    \"name\":\"XYZ\",\n",
    "    \"PRN\":\"22UAI300\",\n",
    "    \"CGPA\":9.00\n",
    "}\n",
    "print(student)\n",
    "print(student[\"name\"])\n",
    "x=student.copy()\n",
    "print(x)\n",
    "\n",
    "x = ('key1', 'key2', 'key3')\n",
    "y = 0\n",
    "dict = dict.fromkeys(x, y)\n",
    "print(dict)\n",
    "x=student.get(\"PRN\")\n",
    "print(x)\n",
    "y=student.items()\n",
    "print(y)\n",
    "x=student.keys()\n",
    "print(x)\n",
    "student.pop(\"CGPA\")\n",
    "print(student)\n",
    "student.setdefault(\"CGPA\",\"9.00\")\n",
    "print(student)\n",
    "student.update({\"City\":\"Ichalkaranji\"})\n",
    "print(student)\n",
    "student.values()\n"
   ]
  },
  {
   "cell_type": "code",
   "execution_count": null,
   "metadata": {},
   "outputs": [],
   "source": []
  },
  {
   "cell_type": "code",
   "execution_count": null,
   "metadata": {},
   "outputs": [],
   "source": []
  },
  {
   "cell_type": "code",
   "execution_count": null,
   "metadata": {},
   "outputs": [],
   "source": []
  }
 ],
 "metadata": {
  "kernelspec": {
   "display_name": "Python 3",
   "language": "python",
   "name": "python3"
  },
  "language_info": {
   "codemirror_mode": {
    "name": "ipython",
    "version": 3
   },
   "file_extension": ".py",
   "mimetype": "text/x-python",
   "name": "python",
   "nbconvert_exporter": "python",
   "pygments_lexer": "ipython3",
   "version": "3.8.5"
  }
 },
 "nbformat": 4,
 "nbformat_minor": 4
}
